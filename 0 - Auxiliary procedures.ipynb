{
 "cells": [
  {
   "cell_type": "code",
   "execution_count": 12,
   "metadata": {},
   "outputs": [
    {
     "name": "stdout",
     "output_type": "stream",
     "text": [
      "Index(['variable_name', 'sector_area', 'sector', 'area_aux', 'sector_aux'], dtype='object')\n",
      "../data/output/clasificacion_variables.dta\n"
     ]
    }
   ],
   "source": [
    "import pandas as pd\n",
    "\n",
    "# Load the Excel file\n",
    "file_path = '../data/input/clasificacion_variables.xlsx'\n",
    "df = pd.read_excel(file_path)\n",
    "\n",
    "# Display the columns to verify the column names\n",
    "print(df.columns)\n",
    "\n",
    "# Define the dictionary for renaming observations in the appropriate column\n",
    "variable_names = { \n",
    "    \"year\": \"year\",\n",
    "    \"Central government debt, total (% of GDP)\": \"gov_debt_gdp\",\n",
    "    \"Domestic credit to private sector (% of GDP)\": \"priv_cred_gdp\",\n",
    "    \"Educational attainment, at least completed upper secondary, population 25+, total (%) (cumulative)\": \"edu_att_upper\",\n",
    "    \"GDP per person employed (constant 2021 PPP $)\": \"gdp_per_empl\",\n",
    "    \"Intentional homicides (per 100,000 people)\": \"intent_hom\",\n",
    "    \"Interest rate spread (lending rate minus deposit rate, %)\": \"int_rate_spread\",\n",
    "    \"Internally displaced persons, new displacement associated with disasters (number of cases)\": \"displ_pax_disaster\",\n",
    "    \"Logistics performance index: Ease of arranging competitively priced shipments (1=low to 5=high)\": \"log_ease_ships\",\n",
    "    \"Logistics performance index: Overall (1=low to 5=high)\": \"log_overall\",\n",
    "    \"Logistics performance index: Quality of trade and transport-related infrastructure (1=low to 5=high)\": \"log_infra\",\n",
    "    \"People using at least basic drinking water services (% of population)\": \"basic_drink_water\",\n",
    "    \"People using at least basic sanitation services (% of population)\": \"basic_san\",\n",
    "    \"Public private partnerships investment in transport (current US$)\": \"ppp_transp_invest\",\n",
    "    \"Renewable energy consumption (% of total final energy consumption)\": \"renew_energy_use\",\n",
    "    \"Research and development expenditure (% of GDP)\": \"rnd_exp_gdp\",\n",
    "    \"Researchers in R&D (per million people)\": \"research_per_m\",\n",
    "    \"School enrollment, preprimary (% gross)\": \"preprimary_enroll\",\n",
    "    \"School enrollment, primary (% net)\": \"primary_enroll\",\n",
    "    \"School enrollment, secondary (% net)\": \"secondary_enroll\",\n",
    "    \"Access to electricity (% of rural population with access\": \"rural_ele_access\",\n",
    "    \"Access to electricity (% of urban population with access\": \"urban_ele_access\",\n",
    "    \"Unnamed: 0\": \"unnamed_0\",\n",
    "    \"Age-standardized suicide rates (per 100 000 population)\": \"suicide_rates\",\n",
    "    \"Current health expenditure (CHE) as percentage of gross domestic product (GDP) (%)\": \"health_exp_gdp\",\n",
    "    \"Deaths per 1 000 live births\": \"deaths_per_births\",\n",
    "    \"Maternal mortality ratio (per 100 000 live births)\": \"maternal_mort_rat\",\n",
    "    \"Medical doctors (per 10,000)\": \"medical_doctors_per_10k\",\n",
    "    \"Premature deaths due to noncommunicable diseases (NCD) as a proportion of all NCD deaths\": \"premature_deaths\",\n",
    "    \"UHC Service Coverage sub-index on noncommunicable diseases\": \"uhc_ncd_coverage\",\n",
    "    \"Borrowed from a formal financial institution (% age 15+)\": \"borrowed_formal_fin\",\n",
    "    \"Financial institution account (% age 15+)\": \"fin_account_age\",\n",
    "    \"Made or received a digital payment (% age 15+)\": \"dig_payment_age\",\n",
    "    \"Acidification\": \"acidification\",\n",
    "    \"Agriculture\": \"agriculture\",\n",
    "    \"Air Quality\": \"air_quality\",\n",
    "    \"Biodiversity & Habitat\": \"bio_habitat\",\n",
    "    \"Climate Change\": \"climate_change\",\n",
    "    \"Ecosystem Services\": \"eco_services\",\n",
    "    \"Environmental Performance Index\": \"environ_perf\",\n",
    "    \"Fisheries\": \"fisheries\",\n",
    "    \"Heavy Metals\": \"heavy_metals\",\n",
    "    \"Sanitation & Drinking Water\": \"san_drink_water\",\n",
    "    \"Sustainable Pesticide Use\": \"sust_pest_use\",\n",
    "    \"UnSafe sanitation\": \"unsafe_san\",\n",
    "    \"Unsafe Drinking Water\": \"unsafe_drink_w\",\n",
    "    \"Waste Management\": \"waste_mgmt\",\n",
    "    \"Wastewater Treatment\": \"wastew_treat\",\n",
    "    \"Water Resources\": \"water_res\",\n",
    "    \"Completion rate, primary education, both sexes (%)\": \"primary_compl_rate\",\n",
    "    \"Proportion of students at the end of lower secondary education achieving at least a minimum proficiency level in mathematics, both sexes (%)\": \"prof_math\",\n",
    "    \"Net enrolment rate, early childhood education, both sexes (%)\": \"early_enroll\",\n",
    "    \"Percentage of pupils enrolled in primary education who are at least 2 years over-age for their current grade, both sexes (%)\": \"over_age_primary\",\n",
    "    \"Percentage of pupils enrolled in lower secondary general education who are at least 2 years over-age for their current grade, both sexes (%)\": \"over_age_sec\",\n",
    "    \"Participation rate of youth and adults in formal and non-formal education and training in the previous 12 months, 15-24 years old, both sexes (%)\": \"part_formal_nonf\",\n",
    "    \"Proportion of students at the end of lower secondary education achieving at least a minimum proficiency level in reading, both sexes (%)\": \"prof_reading\",\n",
    "    \"Population using safely managed sanitation services (%)\": \"safely_mg_san\",\n",
    "    \"Agricultural water withdrawal as % of total renewable water resources\": \"agri_water_withd\",\n",
    "    \"Agricultural R&D spending (constant 2011 PPP$)\": \"agri_rnd_sp\",\n",
    "    \"Agricultural researchers (FTE)\": \"agri_res_fte\",\n",
    "    \"Total Agro Emissions\": \"total_agro_emi\",\n",
    "    \"rtfpna\": \"rtfpna\",\n",
    "    \"rgdpna\": \"rgdpna\",\n",
    "    \"pop\": \"pop\",\n",
    "    \"gdppcppp_const\": \"gdppcppp_const\",\n",
    "    \"Electric power transmission and distribution losses (% of output)\": \"ele_power_trans\",\n",
    "    \"CO2 emissions from transport (% of total fuel combustion)\": \"co2_trans\",\n",
    "    \"Number_of_products_Value\": \"products_value\",\n",
    "    \"Concentration_Index_Value\": \"concent_index\",\n",
    "    \"E-Government_Index\":\"egov_index\",\n",
    "    \"Prison Population Rate\": \"pr_pop_rate\",\n",
    "    \"Water Use Efficiency Rate\": \"water_use_ef\",\n",
    "    \"Control of Corruption\": \"control_corrupt\", \n",
    "    \"Economic Complexity Index\": \"eci_rank\",\n",
    "    \"country\": \"country\",\n",
    "    \"country_code\":\"country_code\"\n",
    "}\n",
    "df[\"variable\"] = \"\"\n",
    "for var in variable_names:\n",
    "    df.loc[df[\"variable_name\"] == var, \"variable\"] = variable_names[var]\n",
    "df = df.drop(columns=\"variable_name\")\n",
    "\n",
    "df[\"clasificacion\"] = df[\"sector\"]\n",
    "# Save the DataFrame as a .dta file\n",
    "output_file_path = '../data/output/clasificacion_variables.dta'\n",
    "df.to_stata(output_file_path)\n",
    "\n",
    "print(output_file_path)\n"
   ]
  },
  {
   "cell_type": "code",
   "execution_count": 13,
   "metadata": {},
   "outputs": [
    {
     "name": "stderr",
     "output_type": "stream",
     "text": [
      "/var/folders/cl/q53v1yn97mdgtqjj_h8l7yhc0000gn/T/ipykernel_44234/2198777224.py:10: SettingWithCopyWarning: \n",
      "A value is trying to be set on a copy of a slice from a DataFrame.\n",
      "Try using .loc[row_indexer,col_indexer] = value instead\n",
      "\n",
      "See the caveats in the documentation: https://pandas.pydata.org/pandas-docs/stable/user_guide/indexing.html#returning-a-view-versus-a-copy\n",
      "  pwt_df[\"gdppcppp_const\"] = pwt_df[\"rgdpna\"]/pwt_df[\"pop\"]\n"
     ]
    }
   ],
   "source": [
    "import pandas as pd\n",
    "\n",
    "# Load the Excel file\n",
    "excel_path = '../data/input/pwt1001.xlsx'  # replace with your actual file path\n",
    "excel_data = pd.read_excel(excel_path, sheet_name='Data')\n",
    "\n",
    "# Transform the dataset to panel data structure for the variable 'rtfpna'\n",
    "pwt_df = excel_data[['countrycode', 'country', 'year', 'rtfpna',\"rgdpna\",\"pop\"]]\n",
    "\n",
    "pwt_df[\"gdppcppp_const\"] = pwt_df[\"rgdpna\"]/pwt_df[\"pop\"]\n",
    "\n",
    "# Save the transformed dataframe as a CSV file\n",
    "output_pwt_path = '../data/output/pwt_df.csv'  # replace with your desired output file path\n",
    "\n",
    "pwt_df = pwt_df.rename(columns = {\"countrycode\":\"country_code\"})\n",
    "pwt_df = pwt_df.loc[pwt_df[\"year\"]>2009,]"
   ]
  },
  {
   "cell_type": "code",
   "execution_count": 16,
   "metadata": {},
   "outputs": [],
   "source": [
    "income_group_new = pd.read_stata(\"../data/input/income_group_new.dta\")\n",
    "\n",
    "income_group_new = pd.merge(income_group_new, pwt_df, how=\"left\",on=[\"country_code\",\"year\"])"
   ]
  },
  {
   "cell_type": "code",
   "execution_count": 22,
   "metadata": {},
   "outputs": [],
   "source": [
    "main_df = pd.read_csv(\"../data/output/main_df13.csv\")\n",
    "main_df = main_df.drop(columns=\"gdppcppp_const\")\n",
    "income_group_new = pd.read_stata(\"../data/input/income_group_new.dta\")\n",
    "income_group_new = income_group_new[[\"gdppcppp_const\",\"country_code\",\"year\"]]\n",
    "main_df = pd.merge(main_df, income_group_new, how=\"left\", on=[\"country_code\",\"year\"])\n",
    "main_df.to_csv(\"../data/output/main_df14.csv\")\n"
   ]
  },
  {
   "cell_type": "code",
   "execution_count": 2,
   "metadata": {},
   "outputs": [],
   "source": [
    "import pandas as pd\n",
    "main_df = pd.read_csv(\"../data/output/main_df13.csv\")"
   ]
  },
  {
   "cell_type": "code",
   "execution_count": 11,
   "metadata": {},
   "outputs": [
    {
     "data": {
      "application/vnd.plotly.v1+json": {
       "config": {
        "plotlyServerURL": "https://plot.ly"
       },
       "data": [
        {
         "fill": "toself",
         "line": {
          "color": "blue"
         },
         "name": "Uruguay",
         "opacity": 1,
         "r": [
          106,
          129.24528301886792,
          233.6448598130841,
          96.93877551020408,
          111.49425287356323,
          93.74848558274775,
          99.56919763058696,
          95.49295774647888,
          348.48484848484844,
          311.3636363636364
         ],
         "theta": [
          "(1)",
          "(2)",
          "(3)",
          "(4)",
          "(5)",
          "(6)",
          "(7)",
          "(8)",
          "(9)",
          "(10)"
         ],
         "type": "scatterpolar"
        },
        {
         "line": {
          "color": "green"
         },
         "name": "LAC",
         "r": [
          102,
          107.54716981132073,
          1098.2643524699602,
          85.71428571428571,
          95.40229885057471,
          82.95371940877149,
          137.42595584275713,
          191.5492957746479,
          193.93939393939394,
          467.04545454545456
         ],
         "theta": [
          "(1)",
          "(2)",
          "(3)",
          "(4)",
          "(5)",
          "(6)",
          "(7)",
          "(8)",
          "(9)",
          "(10)"
         ],
         "type": "scatterpolar"
        },
        {
         "fill": "toself",
         "line": {
          "color": "lightblue"
         },
         "name": "OCDE (100%)",
         "r": [
          100,
          100,
          100,
          100,
          100,
          100,
          100,
          100,
          100,
          100
         ],
         "theta": [
          "(1)",
          "(2)",
          "(3)",
          "(4)",
          "(5)",
          "(6)",
          "(7)",
          "(8)",
          "(9)",
          "(10)"
         ],
         "type": "scatterpolar"
        }
       ],
       "layout": {
        "font": {
         "family": "Montserrat"
        },
        "legend": {
         "orientation": "h",
         "x": 0.5,
         "xanchor": "center",
         "y": -0.2,
         "yanchor": "bottom"
        },
        "polar": {
         "angularaxis": {
          "linecolor": "darkgray",
          "linewidth": 2
         },
         "bgcolor": "white",
         "radialaxis": {
          "visible": false
         }
        },
        "showlegend": true,
        "template": {
         "data": {
          "bar": [
           {
            "error_x": {
             "color": "#2a3f5f"
            },
            "error_y": {
             "color": "#2a3f5f"
            },
            "marker": {
             "line": {
              "color": "#E5ECF6",
              "width": 0.5
             },
             "pattern": {
              "fillmode": "overlay",
              "size": 10,
              "solidity": 0.2
             }
            },
            "type": "bar"
           }
          ],
          "barpolar": [
           {
            "marker": {
             "line": {
              "color": "#E5ECF6",
              "width": 0.5
             },
             "pattern": {
              "fillmode": "overlay",
              "size": 10,
              "solidity": 0.2
             }
            },
            "type": "barpolar"
           }
          ],
          "carpet": [
           {
            "aaxis": {
             "endlinecolor": "#2a3f5f",
             "gridcolor": "white",
             "linecolor": "white",
             "minorgridcolor": "white",
             "startlinecolor": "#2a3f5f"
            },
            "baxis": {
             "endlinecolor": "#2a3f5f",
             "gridcolor": "white",
             "linecolor": "white",
             "minorgridcolor": "white",
             "startlinecolor": "#2a3f5f"
            },
            "type": "carpet"
           }
          ],
          "choropleth": [
           {
            "colorbar": {
             "outlinewidth": 0,
             "ticks": ""
            },
            "type": "choropleth"
           }
          ],
          "contour": [
           {
            "colorbar": {
             "outlinewidth": 0,
             "ticks": ""
            },
            "colorscale": [
             [
              0,
              "#0d0887"
             ],
             [
              0.1111111111111111,
              "#46039f"
             ],
             [
              0.2222222222222222,
              "#7201a8"
             ],
             [
              0.3333333333333333,
              "#9c179e"
             ],
             [
              0.4444444444444444,
              "#bd3786"
             ],
             [
              0.5555555555555556,
              "#d8576b"
             ],
             [
              0.6666666666666666,
              "#ed7953"
             ],
             [
              0.7777777777777778,
              "#fb9f3a"
             ],
             [
              0.8888888888888888,
              "#fdca26"
             ],
             [
              1,
              "#f0f921"
             ]
            ],
            "type": "contour"
           }
          ],
          "contourcarpet": [
           {
            "colorbar": {
             "outlinewidth": 0,
             "ticks": ""
            },
            "type": "contourcarpet"
           }
          ],
          "heatmap": [
           {
            "colorbar": {
             "outlinewidth": 0,
             "ticks": ""
            },
            "colorscale": [
             [
              0,
              "#0d0887"
             ],
             [
              0.1111111111111111,
              "#46039f"
             ],
             [
              0.2222222222222222,
              "#7201a8"
             ],
             [
              0.3333333333333333,
              "#9c179e"
             ],
             [
              0.4444444444444444,
              "#bd3786"
             ],
             [
              0.5555555555555556,
              "#d8576b"
             ],
             [
              0.6666666666666666,
              "#ed7953"
             ],
             [
              0.7777777777777778,
              "#fb9f3a"
             ],
             [
              0.8888888888888888,
              "#fdca26"
             ],
             [
              1,
              "#f0f921"
             ]
            ],
            "type": "heatmap"
           }
          ],
          "heatmapgl": [
           {
            "colorbar": {
             "outlinewidth": 0,
             "ticks": ""
            },
            "colorscale": [
             [
              0,
              "#0d0887"
             ],
             [
              0.1111111111111111,
              "#46039f"
             ],
             [
              0.2222222222222222,
              "#7201a8"
             ],
             [
              0.3333333333333333,
              "#9c179e"
             ],
             [
              0.4444444444444444,
              "#bd3786"
             ],
             [
              0.5555555555555556,
              "#d8576b"
             ],
             [
              0.6666666666666666,
              "#ed7953"
             ],
             [
              0.7777777777777778,
              "#fb9f3a"
             ],
             [
              0.8888888888888888,
              "#fdca26"
             ],
             [
              1,
              "#f0f921"
             ]
            ],
            "type": "heatmapgl"
           }
          ],
          "histogram": [
           {
            "marker": {
             "pattern": {
              "fillmode": "overlay",
              "size": 10,
              "solidity": 0.2
             }
            },
            "type": "histogram"
           }
          ],
          "histogram2d": [
           {
            "colorbar": {
             "outlinewidth": 0,
             "ticks": ""
            },
            "colorscale": [
             [
              0,
              "#0d0887"
             ],
             [
              0.1111111111111111,
              "#46039f"
             ],
             [
              0.2222222222222222,
              "#7201a8"
             ],
             [
              0.3333333333333333,
              "#9c179e"
             ],
             [
              0.4444444444444444,
              "#bd3786"
             ],
             [
              0.5555555555555556,
              "#d8576b"
             ],
             [
              0.6666666666666666,
              "#ed7953"
             ],
             [
              0.7777777777777778,
              "#fb9f3a"
             ],
             [
              0.8888888888888888,
              "#fdca26"
             ],
             [
              1,
              "#f0f921"
             ]
            ],
            "type": "histogram2d"
           }
          ],
          "histogram2dcontour": [
           {
            "colorbar": {
             "outlinewidth": 0,
             "ticks": ""
            },
            "colorscale": [
             [
              0,
              "#0d0887"
             ],
             [
              0.1111111111111111,
              "#46039f"
             ],
             [
              0.2222222222222222,
              "#7201a8"
             ],
             [
              0.3333333333333333,
              "#9c179e"
             ],
             [
              0.4444444444444444,
              "#bd3786"
             ],
             [
              0.5555555555555556,
              "#d8576b"
             ],
             [
              0.6666666666666666,
              "#ed7953"
             ],
             [
              0.7777777777777778,
              "#fb9f3a"
             ],
             [
              0.8888888888888888,
              "#fdca26"
             ],
             [
              1,
              "#f0f921"
             ]
            ],
            "type": "histogram2dcontour"
           }
          ],
          "mesh3d": [
           {
            "colorbar": {
             "outlinewidth": 0,
             "ticks": ""
            },
            "type": "mesh3d"
           }
          ],
          "parcoords": [
           {
            "line": {
             "colorbar": {
              "outlinewidth": 0,
              "ticks": ""
             }
            },
            "type": "parcoords"
           }
          ],
          "pie": [
           {
            "automargin": true,
            "type": "pie"
           }
          ],
          "scatter": [
           {
            "fillpattern": {
             "fillmode": "overlay",
             "size": 10,
             "solidity": 0.2
            },
            "type": "scatter"
           }
          ],
          "scatter3d": [
           {
            "line": {
             "colorbar": {
              "outlinewidth": 0,
              "ticks": ""
             }
            },
            "marker": {
             "colorbar": {
              "outlinewidth": 0,
              "ticks": ""
             }
            },
            "type": "scatter3d"
           }
          ],
          "scattercarpet": [
           {
            "marker": {
             "colorbar": {
              "outlinewidth": 0,
              "ticks": ""
             }
            },
            "type": "scattercarpet"
           }
          ],
          "scattergeo": [
           {
            "marker": {
             "colorbar": {
              "outlinewidth": 0,
              "ticks": ""
             }
            },
            "type": "scattergeo"
           }
          ],
          "scattergl": [
           {
            "marker": {
             "colorbar": {
              "outlinewidth": 0,
              "ticks": ""
             }
            },
            "type": "scattergl"
           }
          ],
          "scattermapbox": [
           {
            "marker": {
             "colorbar": {
              "outlinewidth": 0,
              "ticks": ""
             }
            },
            "type": "scattermapbox"
           }
          ],
          "scatterpolar": [
           {
            "marker": {
             "colorbar": {
              "outlinewidth": 0,
              "ticks": ""
             }
            },
            "type": "scatterpolar"
           }
          ],
          "scatterpolargl": [
           {
            "marker": {
             "colorbar": {
              "outlinewidth": 0,
              "ticks": ""
             }
            },
            "type": "scatterpolargl"
           }
          ],
          "scatterternary": [
           {
            "marker": {
             "colorbar": {
              "outlinewidth": 0,
              "ticks": ""
             }
            },
            "type": "scatterternary"
           }
          ],
          "surface": [
           {
            "colorbar": {
             "outlinewidth": 0,
             "ticks": ""
            },
            "colorscale": [
             [
              0,
              "#0d0887"
             ],
             [
              0.1111111111111111,
              "#46039f"
             ],
             [
              0.2222222222222222,
              "#7201a8"
             ],
             [
              0.3333333333333333,
              "#9c179e"
             ],
             [
              0.4444444444444444,
              "#bd3786"
             ],
             [
              0.5555555555555556,
              "#d8576b"
             ],
             [
              0.6666666666666666,
              "#ed7953"
             ],
             [
              0.7777777777777778,
              "#fb9f3a"
             ],
             [
              0.8888888888888888,
              "#fdca26"
             ],
             [
              1,
              "#f0f921"
             ]
            ],
            "type": "surface"
           }
          ],
          "table": [
           {
            "cells": {
             "fill": {
              "color": "#EBF0F8"
             },
             "line": {
              "color": "white"
             }
            },
            "header": {
             "fill": {
              "color": "#C8D4E3"
             },
             "line": {
              "color": "white"
             }
            },
            "type": "table"
           }
          ]
         },
         "layout": {
          "annotationdefaults": {
           "arrowcolor": "#2a3f5f",
           "arrowhead": 0,
           "arrowwidth": 1
          },
          "autotypenumbers": "strict",
          "coloraxis": {
           "colorbar": {
            "outlinewidth": 0,
            "ticks": ""
           }
          },
          "colorscale": {
           "diverging": [
            [
             0,
             "#8e0152"
            ],
            [
             0.1,
             "#c51b7d"
            ],
            [
             0.2,
             "#de77ae"
            ],
            [
             0.3,
             "#f1b6da"
            ],
            [
             0.4,
             "#fde0ef"
            ],
            [
             0.5,
             "#f7f7f7"
            ],
            [
             0.6,
             "#e6f5d0"
            ],
            [
             0.7,
             "#b8e186"
            ],
            [
             0.8,
             "#7fbc41"
            ],
            [
             0.9,
             "#4d9221"
            ],
            [
             1,
             "#276419"
            ]
           ],
           "sequential": [
            [
             0,
             "#0d0887"
            ],
            [
             0.1111111111111111,
             "#46039f"
            ],
            [
             0.2222222222222222,
             "#7201a8"
            ],
            [
             0.3333333333333333,
             "#9c179e"
            ],
            [
             0.4444444444444444,
             "#bd3786"
            ],
            [
             0.5555555555555556,
             "#d8576b"
            ],
            [
             0.6666666666666666,
             "#ed7953"
            ],
            [
             0.7777777777777778,
             "#fb9f3a"
            ],
            [
             0.8888888888888888,
             "#fdca26"
            ],
            [
             1,
             "#f0f921"
            ]
           ],
           "sequentialminus": [
            [
             0,
             "#0d0887"
            ],
            [
             0.1111111111111111,
             "#46039f"
            ],
            [
             0.2222222222222222,
             "#7201a8"
            ],
            [
             0.3333333333333333,
             "#9c179e"
            ],
            [
             0.4444444444444444,
             "#bd3786"
            ],
            [
             0.5555555555555556,
             "#d8576b"
            ],
            [
             0.6666666666666666,
             "#ed7953"
            ],
            [
             0.7777777777777778,
             "#fb9f3a"
            ],
            [
             0.8888888888888888,
             "#fdca26"
            ],
            [
             1,
             "#f0f921"
            ]
           ]
          },
          "colorway": [
           "#636efa",
           "#EF553B",
           "#00cc96",
           "#ab63fa",
           "#FFA15A",
           "#19d3f3",
           "#FF6692",
           "#B6E880",
           "#FF97FF",
           "#FECB52"
          ],
          "font": {
           "color": "#2a3f5f"
          },
          "geo": {
           "bgcolor": "white",
           "lakecolor": "white",
           "landcolor": "#E5ECF6",
           "showlakes": true,
           "showland": true,
           "subunitcolor": "white"
          },
          "hoverlabel": {
           "align": "left"
          },
          "hovermode": "closest",
          "mapbox": {
           "style": "light"
          },
          "paper_bgcolor": "white",
          "plot_bgcolor": "#E5ECF6",
          "polar": {
           "angularaxis": {
            "gridcolor": "white",
            "linecolor": "white",
            "ticks": ""
           },
           "bgcolor": "#E5ECF6",
           "radialaxis": {
            "gridcolor": "white",
            "linecolor": "white",
            "ticks": ""
           }
          },
          "scene": {
           "xaxis": {
            "backgroundcolor": "#E5ECF6",
            "gridcolor": "white",
            "gridwidth": 2,
            "linecolor": "white",
            "showbackground": true,
            "ticks": "",
            "zerolinecolor": "white"
           },
           "yaxis": {
            "backgroundcolor": "#E5ECF6",
            "gridcolor": "white",
            "gridwidth": 2,
            "linecolor": "white",
            "showbackground": true,
            "ticks": "",
            "zerolinecolor": "white"
           },
           "zaxis": {
            "backgroundcolor": "#E5ECF6",
            "gridcolor": "white",
            "gridwidth": 2,
            "linecolor": "white",
            "showbackground": true,
            "ticks": "",
            "zerolinecolor": "white"
           }
          },
          "shapedefaults": {
           "line": {
            "color": "#2a3f5f"
           }
          },
          "ternary": {
           "aaxis": {
            "gridcolor": "white",
            "linecolor": "white",
            "ticks": ""
           },
           "baxis": {
            "gridcolor": "white",
            "linecolor": "white",
            "ticks": ""
           },
           "bgcolor": "#E5ECF6",
           "caxis": {
            "gridcolor": "white",
            "linecolor": "white",
            "ticks": ""
           }
          },
          "title": {
           "x": 0.05
          },
          "xaxis": {
           "automargin": true,
           "gridcolor": "white",
           "linecolor": "white",
           "ticks": "",
           "title": {
            "standoff": 15
           },
           "zerolinecolor": "white",
           "zerolinewidth": 2
          },
          "yaxis": {
           "automargin": true,
           "gridcolor": "white",
           "linecolor": "white",
           "ticks": "",
           "title": {
            "standoff": 15
           },
           "zerolinecolor": "white",
           "zerolinewidth": 2
          }
         }
        }
       }
      }
     },
     "metadata": {},
     "output_type": "display_data"
    }
   ],
   "source": [
    "import plotly.graph_objects as go\n",
    "\n",
    "# Categories (renamed as (1), (2), ... (10))\n",
    "categories = ['(1)', '(2)', '(3)', '(4)', '(5)', '(6)', '(7)', '(8)', '(9)', '(10)']\n",
    "\n",
    "# Old OCDE values (used for normalization)\n",
    "ocde_values_raw = [1.00, 1.06, 7.49, 0.98, 0.87, 82.54, 18.57, 3.55, 0.33, 0.88]\n",
    "\n",
    "# Values for Uruguay and LAC before normalization\n",
    "uruguay_values_raw = [1.06, 1.37, 17.50, 0.95, 0.97, 77.38, 18.49, 3.39, 1.15, 2.74]\n",
    "lac_values_raw = [1.02, 1.14, 82.26, 0.84, 0.83, 68.47, 25.52, 6.80, 0.64, 4.11]\n",
    "\n",
    "# Assign 100 to OCDE values (as they represent the full polygon)\n",
    "ocde_values = [100] * len(ocde_values_raw)\n",
    "\n",
    "# Normalize Uruguay and LAC values as a percentage of old OCDE values\n",
    "uruguay_values = [(u / o) * 100 for u, o in zip(uruguay_values_raw, ocde_values_raw)]\n",
    "lac_values = [(l / o) * 100 for l, o in zip(lac_values_raw, ocde_values_raw)]\n",
    "\n",
    "# Create radar chart\n",
    "fig = go.Figure()\n",
    "\n",
    "# Add trace for Uruguay (blue color, solid background)\n",
    "fig.add_trace(go.Scatterpolar(\n",
    "    r=uruguay_values,\n",
    "    theta=categories,\n",
    "    fill='toself',\n",
    "    name='Uruguay',\n",
    "    line=dict(color='blue'),\n",
    "    opacity=1\n",
    "))\n",
    "\n",
    "# Add trace for LAC (green color, only lines)\n",
    "fig.add_trace(go.Scatterpolar(\n",
    "    r=lac_values,\n",
    "    theta=categories,\n",
    "    fill=None,\n",
    "    name='LAC',\n",
    "    line=dict(color='green')\n",
    "))\n",
    "\n",
    "# Add trace for OCDE (light blue color, full polygon)\n",
    "fig.add_trace(go.Scatterpolar(\n",
    "    r=ocde_values,\n",
    "    theta=categories,\n",
    "    fill='toself',\n",
    "    name='OCDE (100%)',\n",
    "    line=dict(color='lightblue')\n",
    "))\n",
    "\n",
    "# Update layout for background, Montserrat font, and legend\n",
    "fig.update_layout(\n",
    "    polar=dict(\n",
    "        bgcolor='white',\n",
    "        radialaxis=dict(\n",
    "            visible=False,  # Hide 0, 20, 40... markers\n",
    "        ),\n",
    "        angularaxis=dict(\n",
    "            linewidth=2,\n",
    "            linecolor='darkgray'\n",
    "        )\n",
    "    ),\n",
    "    font=dict(\n",
    "        family=\"Montserrat\"\n",
    "    ),\n",
    "    showlegend=True,\n",
    "    legend=dict(\n",
    "        orientation=\"h\",\n",
    "        yanchor=\"bottom\",\n",
    "        y=-0.2,\n",
    "        xanchor=\"center\",\n",
    "        x=0.5\n",
    "    )\n",
    ")\n",
    "\n",
    "# Show the plot\n",
    "fig.show()"
   ]
  }
 ],
 "metadata": {
  "kernelspec": {
   "display_name": "base",
   "language": "python",
   "name": "python3"
  },
  "language_info": {
   "codemirror_mode": {
    "name": "ipython",
    "version": 3
   },
   "file_extension": ".py",
   "mimetype": "text/x-python",
   "name": "python",
   "nbconvert_exporter": "python",
   "pygments_lexer": "ipython3",
   "version": "3.9.13"
  }
 },
 "nbformat": 4,
 "nbformat_minor": 2
}
